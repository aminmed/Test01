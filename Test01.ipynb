{
  "nbformat": 4,
  "nbformat_minor": 0,
  "metadata": {
    "colab": {
      "name": "Test01.ipynb",
      "provenance": [],
      "toc_visible": true
    },
    "kernelspec": {
      "name": "python3",
      "display_name": "Python 3"
    }
  },
  "cells": [
    {
      "cell_type": "markdown",
      "metadata": {
        "id": "WYm7ckZE57rl"
      },
      "source": [
        "## **General**\r\n",
        "1- What's the difference between a Machine Learning (ML) Model and a Machine Learning algorithm.\r\n",
        "\r\n",
        "2- Why we need to study Linear Algebra for ML?"
      ]
    },
    {
      "cell_type": "markdown",
      "metadata": {
        "id": "vmgZdLTrdnel"
      },
      "source": [
        "# Responses:\r\n",
        "1- a machine learning model is a representation for the process that generate real data, it similiar to mathematical functions with inputs and outputs. So we can call it a predictor algorithm. For ML algorithm is an algorithm that is used to train the model on the datasets.\r\n",
        "\r\n",
        "2- We need to study linear algebra for machine learning beacause we need to represent in a symbolic way the data that we use ( as matrices) and relations between them, we can also try to find similarities between data vectors using linear algebra."
      ]
    },
    {
      "cell_type": "markdown",
      "metadata": {
        "id": "SPBs8VixeD8G"
      },
      "source": [
        "**## Vectors:**\r\n",
        "\r\n",
        "**1- create a vector: **\r\n",
        "\r\n",
        "Our vector can be written as v=(2,1), but more formally we would use the following notation, in which the dimensional coordinate values for the vector are shown as a matrix:$$\\vec{v} = \\begin{bmatrix}2 \\\\ 1 \\end{bmatrix}$$"
      ]
    },
    {
      "cell_type": "code",
      "metadata": {
        "id": "pYlRp9O5gOcZ",
        "colab": {
          "base_uri": "https://localhost:8080/"
        },
        "outputId": "9a586cb4-33a1-4552-c75d-48c543be35f7"
      },
      "source": [
        "import numpy as np\r\n",
        "#TO DO...\r\n",
        "v = np.array([[2],[1]])\r\n",
        "\r\n",
        "print(v)"
      ],
      "execution_count": 1,
      "outputs": [
        {
          "output_type": "stream",
          "text": [
            "[[2]\n",
            " [1]]\n"
          ],
          "name": "stdout"
        }
      ]
    },
    {
      "cell_type": "markdown",
      "metadata": {
        "id": "I3HPxUfQgpp2"
      },
      "source": [
        "### **2-Calculating Magnitude**"
      ]
    },
    {
      "cell_type": "code",
      "metadata": {
        "id": "mIXSLO7dhGzp",
        "colab": {
          "base_uri": "https://localhost:8080/"
        },
        "outputId": "d24b1205-72c5-468e-bf9f-adccf6acad42"
      },
      "source": [
        "import math\r\n",
        "#TO DO... \r\n",
        "def magnitude(vec):\r\n",
        "    sum = 0\r\n",
        "    for v in vec: \r\n",
        "      sum += v*v \r\n",
        "    return math.sqrt(sum)\r\n",
        "print(magnitude(v))\r\n",
        "\r\n"
      ],
      "execution_count": 5,
      "outputs": [
        {
          "output_type": "stream",
          "text": [
            "2.23606797749979\n"
          ],
          "name": "stdout"
        }
      ]
    },
    {
      "cell_type": "markdown",
      "metadata": {
        "id": "7jBRtTMdh-0H"
      },
      "source": [
        "\r\n",
        "**3- Vector Addition:**\r\n",
        "So far, we've worked with one vector at a time. What happens when you need to add two vectors.\r\n",
        "\r\n",
        "Let's take a look at an example, we already have a vector named v, as defined here:$$\\vec{v} = \\begin{bmatrix}2 \\\\ 1 \\end{bmatrix}$$Now let's create a second vector, and called s like this:$$\\vec{s} = \\begin{bmatrix}-3 \\\\ 2 \\end{bmatrix}$$\r\n",
        "\r\n",
        "And we have :$$\\vec{z} = \\vec{v}+\\vec{s}$$"
      ]
    },
    {
      "cell_type": "code",
      "metadata": {
        "id": "cyPCRCXZie9e",
        "colab": {
          "base_uri": "https://localhost:8080/"
        },
        "outputId": "60e51316-5ed9-4556-f430-f9edae820f04"
      },
      "source": [
        "\r\n",
        "import math\r\n",
        "import numpy as np\r\n",
        "\r\n",
        "v = np.array([[2],[1]])\r\n",
        "s = np.array([[-3],[2]])\r\n",
        "z = v + s  \r\n",
        "print (z)"
      ],
      "execution_count": 6,
      "outputs": [
        {
          "output_type": "stream",
          "text": [
            "[[-1]\n",
            " [ 3]]\n"
          ],
          "name": "stdout"
        }
      ]
    },
    {
      "cell_type": "markdown",
      "metadata": {
        "id": "_CjY0iqijB5N"
      },
      "source": [
        "\r\n",
        "4- Dot Product Multiplication\r\n",
        "\r\n",
        "\r\n",
        "$$ \\vec{d}=\\vec{v} \\cdot \\vec{s} = (v_{1} \\cdot s_{1}) + (v_{2} \\cdot s_{2}) ... + \\; (v_{n} \\cdot s_{n})$$"
      ]
    },
    {
      "cell_type": "code",
      "metadata": {
        "id": "9xSZu9zWjpgr",
        "colab": {
          "base_uri": "https://localhost:8080/"
        },
        "outputId": "c1660ddc-6cdf-4be8-c5c1-23f4bdeac435"
      },
      "source": [
        "\r\n",
        "import math\r\n",
        "import numpy as np\r\n",
        "\r\n",
        "v = np.array([[2],[1]])\r\n",
        "s = np.array([[-3],[2]])\r\n",
        "d = np.vdot(v,s)\r\n",
        "print (d)"
      ],
      "execution_count": 8,
      "outputs": [
        {
          "output_type": "stream",
          "text": [
            "-4\n"
          ],
          "name": "stdout"
        }
      ]
    },
    {
      "cell_type": "markdown",
      "metadata": {
        "id": "PgXPtvE5j79t"
      },
      "source": [
        "## **Matrices:**\r\n",
        "\r\n",
        "# 1- create a Matrice:\r\n",
        "A matrix arranges numbers into rows and columns, like this:\r\n",
        "\r\n",
        "$$A = \\begin{bmatrix}\r\n",
        "  1 &amp; 2 &amp; 3 \\\\\r\n",
        "  4 &amp; 5 &amp; 6\r\n",
        " \\end{bmatrix}\r\n",
        "$$"
      ]
    },
    {
      "cell_type": "code",
      "metadata": {
        "id": "uZEPEBzolG7d",
        "colab": {
          "base_uri": "https://localhost:8080/"
        },
        "outputId": "d431cd0b-7899-41c7-dcd0-2fc04fac9501"
      },
      "source": [
        "import numpy as np\r\n",
        "\r\n",
        "A = np.matrix([[1,2,3],[4,5,6]])\r\n",
        "print (A)"
      ],
      "execution_count": 11,
      "outputs": [
        {
          "output_type": "stream",
          "text": [
            "[[1 2 3]\n",
            " [4 5 6]]\n"
          ],
          "name": "stdout"
        }
      ]
    },
    {
      "cell_type": "markdown",
      "metadata": {
        "id": "Ux8mSUHblecq"
      },
      "source": [
        "\r\n",
        "#2- Matrix Transposition\r\n",
        "You can transpose a matrix, that is switch the orientation of its rows and columns. You indicate this with a superscript T, like this:\r\n",
        "\r\n",
        "$$\\begin{bmatrix}1 &amp; 2 &amp; 3 \\\\4 &amp; 5 &amp; 6\\end{bmatrix}^{T} = \\begin{bmatrix}1 &amp; 42 &amp; 53 &amp; 6 \\end{bmatrix}$$"
      ]
    },
    {
      "cell_type": "markdown",
      "metadata": {
        "id": "o1DWED1nl4-Z"
      },
      "source": [
        "a- How can we do it mathematically? \r\n",
        "\r\n",
        "i don't know what you mean by this question, is it about a multiplicatif way to find the transpose ?..........................................\r\n",
        "\r\n"
      ]
    },
    {
      "cell_type": "markdown",
      "metadata": {
        "id": "dNQOyc-jmMNg"
      },
      "source": [
        "b- with Python: "
      ]
    },
    {
      "cell_type": "code",
      "metadata": {
        "colab": {
          "base_uri": "https://localhost:8080/"
        },
        "id": "wFusE1HfmCO_",
        "outputId": "a86c56f7-8fd9-42c8-8843-b6bd9a46f2d1"
      },
      "source": [
        "import numpy as np\r\n",
        "\r\n",
        "A=np.transpose(A)\r\n",
        "print(A)"
      ],
      "execution_count": 14,
      "outputs": [
        {
          "output_type": "stream",
          "text": [
            "[[1 4]\n",
            " [2 5]\n",
            " [3 6]]\n"
          ],
          "name": "stdout"
        }
      ]
    },
    {
      "cell_type": "markdown",
      "metadata": {
        "id": "tbRgbgdlmy0Y"
      },
      "source": [
        "## **Eigendecomposition:**\r\n",
        "\r\n",
        "So we've learned a little about eigenvalues and eigenvectors; but you may be wondering what use they are. Well, one use for them is to help decompose transformation matrices.\r\n",
        "\r\n",
        "1- How can we decompose a matrix? ( Rules and steps)\r\n",
        "2- (Bonus) Do it in python with your exampls."
      ]
    },
    {
      "cell_type": "markdown",
      "metadata": {
        "id": "zFFBuyE8o0Pu"
      },
      "source": [
        "1-Finding the egenvalues of the matrix.\r\n",
        "2- for each eigenvalue, we try to find the subspace of its vectors and its base vectors.\r\n",
        "3- we form the P matrix ( the tranformation from the ordinary base B to the base constracted by the U vi as vi are the vectors of the bases of each eigenvalue\r\n",
        "4- we calculate A' = P^(-1) .A . P "
      ]
    },
    {
      "cell_type": "code",
      "metadata": {
        "id": "UStyMfAao4DB"
      },
      "source": [
        "#2 bonus\r\n",
        "import numpy as np"
      ],
      "execution_count": null,
      "outputs": []
    }
  ]
}